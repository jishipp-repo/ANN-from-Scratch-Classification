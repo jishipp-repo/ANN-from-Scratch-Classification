{
 "cells": [
  {
   "cell_type": "markdown",
   "metadata": {},
   "source": [
    "# Neural Network from Scratch - TensorFlow"
   ]
  },
  {
   "cell_type": "markdown",
   "metadata": {},
   "source": [
    "## Importing Libraries"
   ]
  },
  {
   "cell_type": "code",
   "execution_count": 1,
   "metadata": {},
   "outputs": [
    {
     "name": "stdout",
     "output_type": "stream",
     "text": [
      "TensorFlow Version: 1.15.0\n"
     ]
    }
   ],
   "source": [
    "import tensorflow as tf\n",
    "tf.enable_eager_execution()\n",
    "\n",
    "import numpy as np\n",
    "import matplotlib.pyplot as plt\n",
    "import nn_utils\n",
    "%matplotlib inline\n",
    "\n",
    "print('TensorFlow Version:', tf.__version__) #1.15.0"
   ]
  },
  {
   "cell_type": "markdown",
   "metadata": {},
   "source": [
    "## Helper functions"
   ]
  },
  {
   "cell_type": "code",
   "execution_count": 2,
   "metadata": {},
   "outputs": [],
   "source": [
    "# Helper functions\n",
    "\n",
    "def load_data():\n",
    "    (x_train, y_train), (x_test, y_test) = tf.keras.datasets.mnist.load_data()\n",
    "    x_train = np.reshape(x_train, (x_train.shape[0], 784))/255.\n",
    "    x_test = np.reshape(x_test, (x_test.shape[0], 784))/255.\n",
    "    y_train = tf.keras.utils.to_categorical(y_train)\n",
    "    y_test = tf.keras.utils.to_categorical(y_test)\n",
    "    return (x_train, y_train), (x_test, y_test)\n",
    "\n",
    "def plot_random_examples(x, y, p=None):\n",
    "    indices = np.random.choice(range(0, x.shape[0]), 10)\n",
    "    y = np.argmax(y, axis=1)\n",
    "    if p is None:\n",
    "        p = y\n",
    "    plt.figure(figsize=(10, 5))\n",
    "    for i, index in enumerate(indices):\n",
    "        plt.subplot(2, 5, i+1)\n",
    "        plt.imshow(x[index].reshape((28, 28)), cmap='binary')\n",
    "        plt.xticks([])\n",
    "        plt.yticks([])\n",
    "        if y[index] == p[index]:\n",
    "            col = 'g'\n",
    "        else:\n",
    "            col = 'r'\n",
    "        plt.xlabel(str(p[index]), color=col)\n",
    "    return plt\n",
    "\n",
    "def plot_results(history):\n",
    "    plt.figure(figsize=(12, 4))\n",
    "    epochs = len(history['val_loss'])\n",
    "    plt.subplot(1, 2, 1)\n",
    "    plt.plot(range(epochs), history['val_loss'], label='Val Loss')\n",
    "    plt.plot(range(epochs), history['train_loss'], label='Train Loss')\n",
    "    plt.xticks(list(range(epochs)))\n",
    "    plt.xlabel('Epochs')\n",
    "    plt.ylabel('Loss')\n",
    "    plt.legend()\n",
    "    plt.subplot(1, 2, 2)\n",
    "    plt.plot(range(epochs), history['val_acc'], label='Val Acc')\n",
    "    plt.xticks(list(range(epochs)))\n",
    "    plt.xlabel('Epochs')\n",
    "    plt.ylabel('Accuracy')\n",
    "    plt.legend()\n",
    "    return plt\n"
   ]
  },
  {
   "cell_type": "markdown",
   "metadata": {},
   "source": [
    "## Neural Network Class"
   ]
  },
  {
   "cell_type": "code",
   "execution_count": 8,
   "metadata": {},
   "outputs": [],
   "source": [
    "class NeuralNetwork:\n",
    "    # Initialization of network parameters\n",
    "    def __init__(self, layers):\n",
    "        self.layers = layers\n",
    "        self.L = len(layers)\n",
    "        self.num_features = layers[0]\n",
    "        self.num_classes = layers[-1]\n",
    "        \n",
    "        self.W = {}\n",
    "        self.b = {}\n",
    "        \n",
    "        self.dW = {}\n",
    "        self.db = {}\n",
    "        \n",
    "        self.setup()\n",
    "    \n",
    "    # Initialize the weights (Random normal or uniform distribution can be used)\n",
    "    def setup(self):\n",
    "        for i in range(1, self.L):\n",
    "            self.W[i] = tf.Variable(tf.random.normal(shape=(self.layers[i], self.layers[i-1])))\n",
    "            self.b[i] = tf.Variable(tf.random.normal(shape=(self.layers[i], 1)))\n",
    "    \n",
    "    # Forward Pass to iterate over each layer and get the final layer activation output\n",
    "    def forward_pass(self, X):\n",
    "        A = tf.convert_to_tensor(X, dtype=tf.float32)\n",
    "        for i in range(1, self.L):\n",
    "            Z = tf.matmul(A, tf.transpose(self.W[i])) + tf.transpose(self.b[i])\n",
    "            if i != self.L-1:\n",
    "                A = tf.nn.relu(Z)\n",
    "            else:\n",
    "                A = Z\n",
    "        return A\n",
    "    \n",
    "    # Loss function: Softmax(A) --> Cross-entropy(Y, softmax(A)) --> Mean error\n",
    "    def compute_loss(self, A, Y):\n",
    "        loss = tf.nn.softmax_cross_entropy_with_logits_v2(labels=Y, logits=A)\n",
    "        return tf.reduce_mean(loss)\n",
    "    \n",
    "    # Weight & Bias update using learning rate and their respective gradients.\n",
    "    def update_params(self, lr):\n",
    "        for i in range(1, self.L):\n",
    "            self.W[i].assign_sub(lr * self.dW[i])\n",
    "            self.b[i].assign_sub(lr * self.db[i])\n",
    "    \n",
    "    # Predict function: Forward pass --> Softmax --> Argmax\n",
    "    def predict(self, X):\n",
    "        A = self.forward_pass(X)\n",
    "        return tf.argmax(tf.nn.softmax(A), axis=1)\n",
    "    \n",
    "    # Helper function to get the network info\n",
    "    def info(self):\n",
    "        num_params = 0\n",
    "        for i in range(1, self.L):\n",
    "            num_params += self.W[i].shape[0] * self.W[i].shape[1]\n",
    "            num_params += self.b[i].shape[0]\n",
    "        print('Input Features:', self.num_features)\n",
    "        print('Number of Classes:', self.num_classes)\n",
    "        print('Hidden Layers:')\n",
    "        print('--------------')\n",
    "        for i in range(1, self.L-1):\n",
    "            print('Layer {}, Units {}'.format(i, self.layers[i]))\n",
    "        print('--------------')\n",
    "        print('Number of parameters:', num_params)\n",
    "    \n",
    "    # Train the network on batch of samples\n",
    "    def train_on_batch(self, X, Y, lr):\n",
    "        X = tf.convert_to_tensor(X, dtype=tf.float32)\n",
    "        Y = tf.convert_to_tensor(Y, dtype=tf.float32)\n",
    "        \n",
    "        with tf.GradientTape(persistent=True) as tape:\n",
    "            A = self.forward_pass(X)\n",
    "            loss = self.compute_loss(A, Y)\n",
    "        for i in range(1, self.L):\n",
    "            self.dW[i] = tape.gradient(loss, self.W[i])\n",
    "            self.db[i] = tape.gradient(loss, self.b[i])\n",
    "        \n",
    "        del tape\n",
    "        self.update_params(lr)\n",
    "        return loss.numpy()\n",
    "    \n",
    "    # Train the network on train and validate on test  samples\n",
    "    def train(self, x_train, y_train, x_test, y_test, epochs, steps_per_epoch, batch_size, lr):\n",
    "        history = {\n",
    "            'val_loss': [],\n",
    "            'train_loss': [],\n",
    "            'val_acc': []\n",
    "        }\n",
    "        \n",
    "        for e in range(0, epochs):\n",
    "            epoch_train_loss = 0.\n",
    "            print('Epoch {}'.format(e), end='.')\n",
    "            for i in range(0, steps_per_epoch):\n",
    "                x_batch = x_train[i*batch_size:(i+1)*batch_size]\n",
    "                y_batch = y_train[i*batch_size:(i+1)*batch_size]\n",
    "                \n",
    "                batch_loss = self.train_on_batch(x_batch, y_batch, lr)\n",
    "                epoch_train_loss += batch_loss\n",
    "                \n",
    "                if i%int(steps_per_epoch/10) ==0:\n",
    "                    print(end='.')\n",
    "                \n",
    "            history['train_loss'].append(epoch_train_loss/steps_per_epoch)\n",
    "            val_A = self.forward_pass(x_test)\n",
    "            val_loss = self.compute_loss(val_A, y_test).numpy()\n",
    "            history['val_loss'].append(val_loss)\n",
    "            val_preds = self.predict(x_test)\n",
    "            val_acc = np.mean(np.argmax(y_test, axis =1) == val_preds.numpy())\n",
    "            history['val_acc'].append(val_acc)              \n",
    "            print('Val acc: ', val_acc)\n",
    "        return history"
   ]
  },
  {
   "cell_type": "markdown",
   "metadata": {},
   "source": [
    "## Training the Network"
   ]
  },
  {
   "cell_type": "code",
   "execution_count": 4,
   "metadata": {},
   "outputs": [
    {
     "data": {
      "image/png": "[encoded data removed]",
      "text/plain": [
       "<Figure size 720x360 with 10 Axes>"
      ]
     },
     "metadata": {},
     "output_type": "display_data"
    }
   ],
   "source": [
    "(x_train, y_train), (x_test, y_test) = load_data()\n",
    "nn_utils.plot_random_examples(x_train, y_train).show()"
   ]
  },
  {
   "cell_type": "code",
   "execution_count": 5,
   "metadata": {},
   "outputs": [
    {
     "name": "stdout",
     "output_type": "stream",
     "text": [
      "Input Features: 784\n",
      "Number of Classes: 10\n",
      "Hidden Layers:\n",
      "--------------\n",
      "Layer 1, Units 128\n",
      "Layer 2, Units 128\n",
      "--------------\n",
      "Number of parameters: 118282\n"
     ]
    }
   ],
   "source": [
    "net = NeuralNetwork([784, 128, 128, 10])\n",
    "net.info()"
   ]
  },
  {
   "cell_type": "code",
   "execution_count": 15,
   "metadata": {},
   "outputs": [
    {
     "name": "stdout",
     "output_type": "stream",
     "text": [
      "Steps per epoch 500\n"
     ]
    }
   ],
   "source": [
    "batch_size =120\n",
    "epochs = 50\n",
    "steps_per_epoch = int(x_train.shape[0]/batch_size)\n",
    "lr = 3e-3\n",
    "print('Steps per epoch', steps_per_epoch)"
   ]
  },
  {
   "cell_type": "code",
   "execution_count": 16,
   "metadata": {},
   "outputs": [
    {
     "name": "stdout",
     "output_type": "stream",
     "text": [
      "Epoch 0...........Val acc:  0.8904\n",
      "Epoch 1...........Val acc:  0.8933\n",
      "Epoch 2...........Val acc:  0.8941\n",
      "Epoch 3...........Val acc:  0.8959\n",
      "Epoch 4...........Val acc:  0.8953\n",
      "Epoch 5...........Val acc:  0.8944\n",
      "Epoch 6...........Val acc:  0.8958\n",
      "Epoch 7...........Val acc:  0.895\n",
      "Epoch 8...........Val acc:  0.8951\n",
      "Epoch 9...........Val acc:  0.8951\n",
      "Epoch 10...........Val acc:  0.894\n",
      "Epoch 11...........Val acc:  0.8954\n",
      "Epoch 12...........Val acc:  0.8944\n",
      "Epoch 13...........Val acc:  0.8953\n",
      "Epoch 14...........Val acc:  0.8946\n",
      "Epoch 15...........Val acc:  0.8938\n",
      "Epoch 16...........Val acc:  0.8936\n",
      "Epoch 17...........Val acc:  0.8944\n",
      "Epoch 18...........Val acc:  0.8951\n",
      "Epoch 19...........Val acc:  0.8953\n",
      "Epoch 20...........Val acc:  0.8941\n",
      "Epoch 21...........Val acc:  0.8957\n",
      "Epoch 22...........Val acc:  0.895\n",
      "Epoch 23...........Val acc:  0.8947\n",
      "Epoch 24...........Val acc:  0.8928\n",
      "Epoch 25...........Val acc:  0.8949\n",
      "Epoch 26...........Val acc:  0.8957\n",
      "Epoch 27...........Val acc:  0.8967\n",
      "Epoch 28...........Val acc:  0.8963\n",
      "Epoch 29...........Val acc:  0.8962\n",
      "Epoch 30...........Val acc:  0.8978\n",
      "Epoch 31...........Val acc:  0.8989\n",
      "Epoch 32...........Val acc:  0.8995\n",
      "Epoch 33...........Val acc:  0.9\n",
      "Epoch 34...........Val acc:  0.9004\n",
      "Epoch 35...........Val acc:  0.8985\n",
      "Epoch 36...........Val acc:  0.8995\n",
      "Epoch 37...........Val acc:  0.8998\n",
      "Epoch 38...........Val acc:  0.901\n",
      "Epoch 39...........Val acc:  0.902\n",
      "Epoch 40...........Val acc:  0.9015\n",
      "Epoch 41...........Val acc:  0.9008\n",
      "Epoch 42...........Val acc:  0.9038\n",
      "Epoch 43...........Val acc:  0.9031\n",
      "Epoch 44...........Val acc:  0.9027\n",
      "Epoch 45...........Val acc:  0.9028\n",
      "Epoch 46...........Val acc:  0.9027\n",
      "Epoch 47...........Val acc:  0.9027\n",
      "Epoch 48...........Val acc:  0.8997\n",
      "Epoch 49...........Val acc:  0.9003\n"
     ]
    }
   ],
   "source": [
    "history = net.train(\n",
    "x_train, y_train, x_test, y_test,\n",
    "epochs, steps_per_epoch, batch_size, lr)"
   ]
  },
  {
   "cell_type": "code",
   "execution_count": 17,
   "metadata": {},
   "outputs": [
    {
     "data": {
      "image/png": "[encoded data removed]",
      "text/plain": [
       "<Figure size 864x288 with 2 Axes>"
      ]
     },
     "metadata": {
      "needs_background": "light"
     },
     "output_type": "display_data"
    }
   ],
   "source": [
    "# Loss & Accuracy\n",
    "plot_results(history).show()"
   ]
  },
  {
   "cell_type": "markdown",
   "metadata": {},
   "source": [
    "## Prediction"
   ]
  },
  {
   "cell_type": "code",
   "execution_count": 18,
   "metadata": {},
   "outputs": [],
   "source": [
    "preds = net.predict(x_test)"
   ]
  },
  {
   "cell_type": "code",
   "execution_count": 19,
   "metadata": {},
   "outputs": [
    {
     "data": {
      "image/png": "[encoded data removed]",
      "text/plain": [
       "<Figure size 720x360 with 10 Axes>"
      ]
     },
     "metadata": {},
     "output_type": "display_data"
    }
   ],
   "source": [
    "_ = plot_random_examples(x_test, y_test, preds.numpy())"
   ]
  },
  {
   "cell_type": "code",
   "execution_count": null,
   "metadata": {},
   "outputs": [],
   "source": []
  }
 ],
 "metadata": {
  "kernelspec": {
   "display_name": "Python 3",
   "language": "python",
   "name": "python3"
  },
  "language_info": {
   "codemirror_mode": {
    "name": "ipython",
    "version": 3
   },
   "file_extension": ".py",
   "mimetype": "text/x-python",
   "name": "python",
   "nbconvert_exporter": "python",
   "pygments_lexer": "ipython3",
   "version": "3.7.4"
  }
 },
 "nbformat": 4,
 "nbformat_minor": 2
}
